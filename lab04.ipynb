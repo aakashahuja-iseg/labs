{
 "cells": [
  {
   "cell_type": "code",
   "execution_count": 1,
   "metadata": {},
   "outputs": [
    {
     "name": "stdout",
     "output_type": "stream",
     "text": [
      "[1000.0, 1100.0, 1210.0000000000002, 1331.0000000000005, 1464.1000000000004, 1610.5100000000004]\n"
     ]
    }
   ],
   "source": [
    "#1 Sales Volume\n",
    "\n",
    "initialsale = 1000\n",
    "annualgrowth = 0.1\n",
    "numberofyears = 6\n",
    "\n",
    "SalesVolume=[]\n",
    "\n",
    "for i in range (0,numberofyears):\n",
    "    SalesVolume.append(initialsale*((1+annualgrowth)**i))\n",
    "    \n",
    "print(SalesVolume)"
   ]
  },
  {
   "cell_type": "code",
   "execution_count": 2,
   "metadata": {},
   "outputs": [
    {
     "name": "stdout",
     "output_type": "stream",
     "text": [
      "[300.00000000000006, 330.00000000000006, 363.0000000000001, 399.3000000000002, 439.2300000000002, 483.1530000000002]\n"
     ]
    }
   ],
   "source": [
    "#2 Costs\n",
    "\n",
    "\n",
    "margin = 0.7\n",
    "Costs=[]\n",
    "\n",
    "for volume in SalesVolume:\n",
    "    Costs.append(volume*(1-margin))\n",
    "\n",
    "print(Costs)"
   ]
  },
  {
   "cell_type": "code",
   "execution_count": 3,
   "metadata": {},
   "outputs": [
    {
     "name": "stdout",
     "output_type": "stream",
     "text": [
      "[700.0, 770.0, 847.0000000000001, 931.7000000000003, 1024.8700000000001, 1127.3570000000002]\n"
     ]
    }
   ],
   "source": [
    "#3 Profits\n",
    "\n",
    "Profits=[]\n",
    "\n",
    "for i in range(0,numberofyears):\n",
    "    Profits.append(SalesVolume[i]-Costs[i])\n",
    "\n",
    "print(Profits)\n",
    "    \n"
   ]
  },
  {
   "cell_type": "code",
   "execution_count": 4,
   "metadata": {},
   "outputs": [
    {
     "name": "stdout",
     "output_type": "stream",
     "text": [
      "[700.0, 670.0, 636.9999999999999, 600.6999999999998, 560.7699999999998, 516.8469999999998, 800.0, 770.0, 736.9999999999999, 700.6999999999998, 660.7699999999998, 616.8469999999998, 910.0000000000002, 880.0000000000002, 847.0000000000001, 810.7, 770.77, 726.847, 1031.0000000000005, 1001.0000000000005, 968.0000000000003, 931.7000000000003, 891.7700000000002, 847.8470000000002, 1164.1000000000004, 1134.1000000000004, 1101.1000000000004, 1064.8000000000002, 1024.8700000000001, 980.9470000000001, 1310.5100000000004, 1280.5100000000004, 1247.5100000000002, 1211.2100000000003, 1171.2800000000002, 1127.3570000000002]\n"
     ]
    }
   ],
   "source": [
    "Profits2=[]\n",
    "\n",
    "for volume in SalesVolume:\n",
    "    for cost in Costs:\n",
    "        Profits2.append(volume-cost)\n",
    "    \n",
    "print(Profits2)\n",
    "\n",
    "#this does not work - because every element of first list is being operated with every elemtn of the second list also"
   ]
  },
  {
   "cell_type": "code",
   "execution_count": 5,
   "metadata": {},
   "outputs": [
    {
     "name": "stdout",
     "output_type": "stream",
     "text": [
      "[200.0, 270.0, 347.0000000000001, 431.7000000000003, 524.8700000000001, 627.3570000000002]\n"
     ]
    }
   ],
   "source": [
    "#4 Profit after fixed Cost\n",
    "\n",
    "fixedcost=500\n",
    "newProfit=[]\n",
    "\n",
    "for profit in Profits:\n",
    "    newProfit.append(profit-fixedcost)\n",
    "    \n",
    "print(newProfit)\n"
   ]
  },
  {
   "cell_type": "code",
   "execution_count": 9,
   "metadata": {},
   "outputs": [
    {
     "name": "stdout",
     "output_type": "stream",
     "text": [
      "[1162, 1531, 431, 1623, 997, 1769]\n"
     ]
    }
   ],
   "source": [
    "#5 Random Volumes\n",
    "\n",
    "newSales=[]\n",
    "\n",
    "import random\n",
    "\n",
    "for i in range (0,numberofyears):\n",
    "    newSales.append(random.randint(200,2000))\n",
    "\n",
    "print(newSales)\n",
    "\n"
   ]
  },
  {
   "cell_type": "code",
   "execution_count": 10,
   "metadata": {},
   "outputs": [
    {
     "name": "stdout",
     "output_type": "stream",
     "text": [
      "[313.4, 571.7, -198.3, 636.0999999999999, 197.89999999999998, 738.3]\n"
     ]
    }
   ],
   "source": [
    "#6 Profits from random volumes\n",
    "\n",
    "randomProfit=[]\n",
    "\n",
    "for randVol in newSales:\n",
    "    randomProfit.append(randVol*margin-fixedcost)\n",
    "\n",
    "print(randomProfit)"
   ]
  },
  {
   "cell_type": "code",
   "execution_count": 22,
   "metadata": {},
   "outputs": [
    {
     "name": "stdout",
     "output_type": "stream",
     "text": [
      "[1, 1, 0, 1, 1, 1]\n",
      "83.33333333333334\n"
     ]
    }
   ],
   "source": [
    "#7 Profitable years\n",
    "\n",
    "binary=[]\n",
    "\n",
    "for profit in randomProfit:\n",
    "    if profit>0:\n",
    "        binary.append(1)\n",
    "    else: binary.append(0)\n",
    "        \n",
    "print(binary)\n",
    "\n",
    "percentageProfitYears=sum(binary)/len(binary)*100\n",
    "\n",
    "print(percentageProfitYears)"
   ]
  },
  {
   "cell_type": "code",
   "execution_count": 27,
   "metadata": {},
   "outputs": [
    {
     "name": "stdout",
     "output_type": "stream",
     "text": [
      "<module 'matplotlib.pyplot' from 'C:\\\\Users\\\\Akash Ahuja\\\\Anaconda3\\\\lib\\\\site-packages\\\\matplotlib\\\\pyplot.py'>\n"
     ]
    },
    {
     "data": {
      "image/png": "[encoded data removed]",
      "text/plain": [
       "<Figure size 432x288 with 1 Axes>"
      ]
     },
     "metadata": {
      "needs_background": "light"
     },
     "output_type": "display_data"
    }
   ],
   "source": [
    "#8 Plot\n",
    "\n",
    "import matplotlib.pyplot as plt\n",
    "\n",
    "plt.plot(SalesVolume)\n",
    "plt.plot(newSales)\n",
    "plt.ylabel('sales')\n",
    "plt.xlabel('years')"
   ]
  },
  {
   "cell_type": "code",
   "execution_count": null,
   "metadata": {},
   "outputs": [],
   "source": []
  }
 ],
 "metadata": {
  "kernelspec": {
   "display_name": "Python 3",
   "language": "python",
   "name": "python3"
  },
  "language_info": {
   "codemirror_mode": {
    "name": "ipython",
    "version": 3
   },
   "file_extension": ".py",
   "mimetype": "text/x-python",
   "name": "python",
   "nbconvert_exporter": "python",
   "pygments_lexer": "ipython3",
   "version": "3.7.3"
  }
 },
 "nbformat": 4,
 "nbformat_minor": 2
}
