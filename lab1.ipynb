{
 "cells": [
  {
   "cell_type": "code",
   "execution_count": 6,
   "metadata": {},
   "outputs": [
    {
     "data": {
      "text/plain": [
       "False"
      ]
     },
     "execution_count": 6,
     "metadata": {},
     "output_type": "execute_result"
    }
   ],
   "source": [
    "#1. Verify value is integer\n",
    "\n",
    "n=1.5\n",
    "n==int(n)\n",
    "\n",
    "#this will result false - If I change n to an integer value the result will be true\n",
    "\n"
   ]
  },
  {
   "cell_type": "code",
   "execution_count": 11,
   "metadata": {},
   "outputs": [
    {
     "data": {
      "text/plain": [
       "True"
      ]
     },
     "execution_count": 11,
     "metadata": {},
     "output_type": "execute_result"
    }
   ],
   "source": [
    "#2 Verify value is even\n",
    "\n",
    "n=4\n",
    "n % 2==0\n",
    "\n",
    "#this will result in true since I have made n as a even number = If i Put an odd number the result will be false\n",
    "    \n",
    "\n"
   ]
  },
  {
   "cell_type": "code",
   "execution_count": 16,
   "metadata": {},
   "outputs": [
    {
     "data": {
      "text/plain": [
       "False"
      ]
     },
     "execution_count": 16,
     "metadata": {},
     "output_type": "execute_result"
    }
   ],
   "source": [
    "#3. Check larger of two numbers\n",
    "\n",
    "first=4\n",
    "second=6\n",
    "\n",
    "first - second > 0\n",
    "\n",
    "#my current inputs will result in false - if i had the numbers other way around I will get a True\n",
    "\n"
   ]
  },
  {
   "cell_type": "code",
   "execution_count": 23,
   "metadata": {},
   "outputs": [
    {
     "data": {
      "text/plain": [
       "True"
      ]
     },
     "execution_count": 23,
     "metadata": {},
     "output_type": "execute_result"
    }
   ],
   "source": [
    "#4. verify if a number is a multiple of another number\n",
    "\n",
    "n = 24\n",
    "m = 3\n",
    "\n",
    "n % m ==0 or m % n==0"
   ]
  },
  {
   "cell_type": "code",
   "execution_count": 24,
   "metadata": {},
   "outputs": [
    {
     "name": "stdout",
     "output_type": "stream",
     "text": [
      "18.0\n"
     ]
    }
   ],
   "source": [
    "#5. calculate interest\n",
    "\n",
    "capital = 200\n",
    "time = 3\n",
    "rate = 0.03\n",
    "\n",
    "interest = capital*time*rate\n",
    "print(interest)"
   ]
  },
  {
   "cell_type": "code",
   "execution_count": 25,
   "metadata": {},
   "outputs": [
    {
     "name": "stdout",
     "output_type": "stream",
     "text": [
      "218.5454\n"
     ]
    }
   ],
   "source": [
    "#6. New Capital\n",
    "\n",
    "capital=200\n",
    "time=3\n",
    "rate=0.03\n",
    "\n",
    "newcapital = capital * (1+rate)**time\n",
    "print(newcapital)"
   ]
  },
  {
   "cell_type": "code",
   "execution_count": 28,
   "metadata": {},
   "outputs": [
    {
     "name": "stdout",
     "output_type": "stream",
     "text": [
      "28.469444693991427\n"
     ]
    }
   ],
   "source": [
    "#7. BMI\n",
    "\n",
    "weight_kg = 90\n",
    "height_meter=1.778\n",
    "\n",
    "BMI = weight_kg / (height_meter**2)\n",
    "print(BMI)"
   ]
  },
  {
   "cell_type": "code",
   "execution_count": 29,
   "metadata": {},
   "outputs": [
    {
     "name": "stdout",
     "output_type": "stream",
     "text": [
      "1.618033988749895\n"
     ]
    }
   ],
   "source": [
    "#8. Golden Ratio\n",
    "\n",
    "gr = (1+(5**0.5))/2\n",
    "print(gr)\n",
    "\n"
   ]
  },
  {
   "cell_type": "code",
   "execution_count": 33,
   "metadata": {},
   "outputs": [
    {
     "name": "stdout",
     "output_type": "stream",
     "text": [
      "3139.440301519393\n"
     ]
    }
   ],
   "source": [
    "#9. NPV\n",
    "\n",
    "invt=10000\n",
    "cf1=2000\n",
    "cf2=3000\n",
    "cf3=4000\n",
    "cf4=4000\n",
    "cf5=5000\n",
    "rate=0.1\n",
    "\n",
    "NPV=cf1/((1+rate)**1)+cf2/((1+rate)**2)+cf3/((1+rate)**3)+cf4/((1+rate)**4)+cf5/((1+rate)**5) - invt\n",
    "print(NPV)\n"
   ]
  },
  {
   "cell_type": "code",
   "execution_count": 10,
   "metadata": {},
   "outputs": [
    {
     "name": "stdout",
     "output_type": "stream",
     "text": [
      "what is your nameaakash\n",
      "what is your age30\n",
      "1989\n",
      "aakash was born in 1989\n"
     ]
    }
   ],
   "source": [
    "#10. Name and Age/Birthdate\n",
    "\n",
    "name=input(\"what is your name\")\n",
    "age=input(\"what is your age\")\n",
    "\n",
    "age1=int(age)\n",
    "\n",
    "birthyear=2019-age1\n",
    "\n",
    "\n",
    "print(birthyear)\n",
    "Ans=(name+\" was born in \"+str(birthyear))\n",
    "print(Ans)"
   ]
  },
  {
   "cell_type": "code",
   "execution_count": 24,
   "metadata": {},
   "outputs": [
    {
     "name": "stdout",
     "output_type": "stream",
     "text": [
      "what is your age30\n",
      "1989\n"
     ]
    }
   ],
   "source": [
    "#10.2 birth year with library\n",
    "\n",
    "age=input(\"what is your age\")\n",
    "\n",
    "age1=int(age)\n",
    "\n",
    "from datetime import date\n",
    "today=date.today()\n",
    "year=today.year\n",
    "\n",
    "birthdyear=year-age1\n",
    "print(birthyear)\n",
    "\n",
    "\n",
    "\n"
   ]
  },
  {
   "cell_type": "code",
   "execution_count": 13,
   "metadata": {},
   "outputs": [
    {
     "name": "stdout",
     "output_type": "stream",
     "text": [
      "what is your first nameaakash\n",
      "what is your last nameahuja\n",
      "aakash ahuja\n",
      "AAKASH AHUJA\n",
      "Aakash Ahuja\n",
      "aakash ahuja\n",
      "Aakash ahuja\n"
     ]
    }
   ],
   "source": [
    "#11. Complete Name\n",
    "\n",
    "firstname=input(\"what is your first name\")\n",
    "lastname=input(\"what is your last name\")\n",
    "\n",
    "name=(firstname+\" \"+lastname)\n",
    "print(name)\n",
    "\n",
    "nameBig=name.upper()\n",
    "nameTitle=name.title()\n",
    "nameSmall=name.lower()\n",
    "nameCapitalized=name.capitalize()\n",
    "\n",
    "print(nameBig)\n",
    "print(nameTitle)\n",
    "print(nameSmall)\n",
    "print(nameCapitalized)\n",
    "\n"
   ]
  },
  {
   "cell_type": "code",
   "execution_count": 25,
   "metadata": {},
   "outputs": [
    {
     "data": {
      "text/plain": [
       "5"
      ]
     },
     "execution_count": 25,
     "metadata": {},
     "output_type": "execute_result"
    }
   ],
   "source": [
    "#12. Find characters\n",
    "\n",
    "random=(\"hgbcfdaefg\")\n",
    "\n",
    "str.find(random,\"da\")\n",
    "\n"
   ]
  },
  {
   "cell_type": "code",
   "execution_count": 26,
   "metadata": {},
   "outputs": [
    {
     "data": {
      "text/plain": [
       "-1"
      ]
     },
     "execution_count": 26,
     "metadata": {},
     "output_type": "execute_result"
    }
   ],
   "source": [
    "#12b - cannot find text\n",
    "\n",
    "random=(\"hgbcfefg\")\n",
    "\n",
    "str.find(random,\"da\")\n"
   ]
  },
  {
   "cell_type": "code",
   "execution_count": null,
   "metadata": {},
   "outputs": [],
   "source": []
  }
 ],
 "metadata": {
  "kernelspec": {
   "display_name": "Python 3",
   "language": "python",
   "name": "python3"
  },
  "language_info": {
   "codemirror_mode": {
    "name": "ipython",
    "version": 3
   },
   "file_extension": ".py",
   "mimetype": "text/x-python",
   "name": "python",
   "nbconvert_exporter": "python",
   "pygments_lexer": "ipython3",
   "version": "3.7.3"
  }
 },
 "nbformat": 4,
 "nbformat_minor": 2
}
